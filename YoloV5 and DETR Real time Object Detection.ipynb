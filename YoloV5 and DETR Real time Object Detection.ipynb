{
 "cells": [
  {
   "cell_type": "code",
   "execution_count": 1,
   "id": "c5a35399-fdde-45cc-bb88-f18c7093e058",
   "metadata": {},
   "outputs": [],
   "source": [
    "import torch\n",
    "import cv2\n",
    "from PIL import Image\n",
    "from transformers import DetrImageProcessor, DetrForObjectDetection\n",
    "import ipywidgets as widgets\n",
    "from IPython.display import display\n",
    "import time"
   ]
  },
  {
   "cell_type": "code",
   "execution_count": 2,
   "id": "704b07c5-f17b-4bdc-880d-d0254ad5b682",
   "metadata": {},
   "outputs": [],
   "source": [
    "# Define available models and their variants\n",
    "model_variants = {\n",
    "    'YOLOv5': ['yolov5s', 'yolov5m', 'yolov5l', 'yolov5x'],\n",
    "    'DETR': ['facebook/detr-resnet-50', 'facebook/detr-resnet-101', 'facebook/detr-resnet-50-panoptic']\n",
    "}"
   ]
  },
  {
   "cell_type": "code",
   "execution_count": 3,
   "id": "50e0e627-2aea-4839-8cd9-0fa1a760a95b",
   "metadata": {},
   "outputs": [],
   "source": [
    "# Load YOLOv5 model\n",
    "def load_yolov5_model(variant):\n",
    "    return torch.hub.load('ultralytics/yolov5', variant, pretrained=True)\n",
    "\n"
   ]
  },
  {
   "cell_type": "code",
   "execution_count": 4,
   "id": "8fe5be07-c5a2-4076-af56-72f0a8eb2d24",
   "metadata": {},
   "outputs": [],
   "source": [
    "# Load DETR model\n",
    "def load_detr_model(variant):\n",
    "    processor = DetrImageProcessor.from_pretrained(variant)\n",
    "    model = DetrForObjectDetection.from_pretrained(variant)\n",
    "    model.eval()\n",
    "    return model, processor"
   ]
  },
  {
   "cell_type": "code",
   "execution_count": 5,
   "id": "e189557b-e5a2-4fb6-a733-4fc39cf77503",
   "metadata": {},
   "outputs": [],
   "source": [
    "# Function to perform YOLOv5 detection\n",
    "def yolov5_detection(frame, model, model_name, variant_name):\n",
    "    img_rgb = cv2.cvtColor(frame, cv2.COLOR_BGR2RGB)\n",
    "    start_time = time.time()\n",
    "    results = model(img_rgb)\n",
    "    inference_time = time.time() - start_time\n",
    "    \n",
    "    df = results.pandas().xyxy[0]\n",
    "    for _, row in df.iterrows():\n",
    "        x1, y1, x2, y2 = int(row['xmin']), int(row['ymin']), int(row['xmax']), int(row['ymax'])\n",
    "        label = row['name']\n",
    "        confidence = row['confidence']\n",
    "        cv2.rectangle(frame, (x1, y1), (x2, y2), (0, 255, 0), 2)\n",
    "        cv2.putText(frame, f\"{label} {confidence:.2f}\", (x1, y1-10), cv2.FONT_HERSHEY_SIMPLEX, 0.9, (0, 255, 0), 2)\n",
    "    \n",
    "    cv2.putText(frame, f\"{model_name} - {variant_name}\", (10, 30), cv2.FONT_HERSHEY_SIMPLEX, 1, (0, 255, 255), 2)\n",
    "    cv2.putText(frame, f\"Inference Time: {inference_time:.2f} sec\", (10, 60), cv2.FONT_HERSHEY_SIMPLEX, 1, (255, 0, 0), 2)\n",
    "    return frame\n"
   ]
  },
  {
   "cell_type": "code",
   "execution_count": 6,
   "id": "0b99c3b2-1c94-4b88-bb8e-08ac49728d17",
   "metadata": {},
   "outputs": [],
   "source": [
    "# Function to perform DETR detection\n",
    "def detr_detection(frame, model, processor, model_name, variant_name):\n",
    "    img = Image.fromarray(cv2.cvtColor(frame, cv2.COLOR_BGR2RGB))\n",
    "    \n",
    "    start_time = time.time()\n",
    "    inputs = processor(images=img, return_tensors=\"pt\")\n",
    "    outputs = model(**inputs)\n",
    "    inference_time = time.time() - start_time\n",
    "    \n",
    "    target_sizes = torch.tensor([img.size[::-1]])\n",
    "    results = processor.post_process_object_detection(outputs, target_sizes=target_sizes, threshold=0.9)[0]\n",
    "    \n",
    "    for score, label, box in zip(results[\"scores\"], results[\"labels\"], results[\"boxes\"]):\n",
    "        if score > 0.9:\n",
    "            x1, y1, x2, y2 = [int(i) for i in box]\n",
    "            cv2.rectangle(frame, (x1, y1), (x2, y2), (0, 255, 0), 2)\n",
    "            label_name = model.config.id2label[label.item()]\n",
    "            cv2.putText(frame, f\"{label_name}: {score:.2f}\", (x1, y1 - 10),\n",
    "                        cv2.FONT_HERSHEY_SIMPLEX, 0.9, (0, 255, 0), 2)\n",
    "    \n",
    "    cv2.putText(frame, f\"{model_name} - {variant_name}\", (10, 30), cv2.FONT_HERSHEY_SIMPLEX, 1, (0, 255, 255), 2)\n",
    "    cv2.putText(frame, f\"Inference Time: {inference_time:.2f} sec\", (10, 60),\n",
    "                cv2.FONT_HERSHEY_SIMPLEX, 1, (255, 0, 0), 2)\n",
    "    return frame\n"
   ]
  },
  {
   "cell_type": "code",
   "execution_count": 7,
   "id": "fbc29ed7-7ecc-429c-a681-6ecb8fb5b408",
   "metadata": {},
   "outputs": [],
   "source": [
    "# Dropdown to choose the model type\n",
    "model_type_dropdown = widgets.Dropdown(\n",
    "    options=['YOLOv5', 'DETR'],\n",
    "    value='YOLOv5',\n",
    "    description='Model Type:'\n",
    ")\n",
    "\n",
    "# Dropdown to choose the model variant\n",
    "model_variant_dropdown = widgets.Dropdown(\n",
    "    options=model_variants['YOLOv5'],\n",
    "    value='yolov5s',\n",
    "    description='Variant:'\n",
    ")"
   ]
  },
  {
   "cell_type": "code",
   "execution_count": 9,
   "id": "4bdd9e12-1b04-40d4-8cbf-dc72eb0e84c8",
   "metadata": {},
   "outputs": [
    {
     "data": {
      "application/vnd.jupyter.widget-view+json": {
       "model_id": "79729ebb3b7b403eaf9812fe45ce052d",
       "version_major": 2,
       "version_minor": 0
      },
      "text/plain": [
       "Dropdown(description='Model Type:', options=('YOLOv5', 'DETR'), value='YOLOv5')"
      ]
     },
     "metadata": {},
     "output_type": "display_data"
    },
    {
     "data": {
      "application/vnd.jupyter.widget-view+json": {
       "model_id": "ef1a0dc0d7a243f49609d2337ea995a4",
       "version_major": 2,
       "version_minor": 0
      },
      "text/plain": [
       "Dropdown(description='Variant:', options=('yolov5s', 'yolov5m', 'yolov5l', 'yolov5x'), value='yolov5s')"
      ]
     },
     "metadata": {},
     "output_type": "display_data"
    },
    {
     "data": {
      "application/vnd.jupyter.widget-view+json": {
       "model_id": "9ee58204dbf9431ba818f57a4d6831ed",
       "version_major": 2,
       "version_minor": 0
      },
      "text/plain": [
       "Button(description='Start Detection', style=ButtonStyle())"
      ]
     },
     "metadata": {},
     "output_type": "display_data"
    }
   ],
   "source": [
    "# Update the variant dropdown when the model type is changed\n",
    "def update_variant_options(*args):\n",
    "    model_variant_dropdown.options = model_variants[model_type_dropdown.value]\n",
    "    model_variant_dropdown.value = model_variants[model_type_dropdown.value][0]\n",
    "\n",
    "model_type_dropdown.observe(update_variant_options, 'value')\n",
    "\n",
    "# Button to start detection\n",
    "start_button = widgets.Button(description=\"Start Detection\")\n",
    "\n",
    "# Display the dropdowns and button\n",
    "display(model_type_dropdown, model_variant_dropdown, start_button)\n",
    "\n",
    "def on_button_click(b):\n",
    "    model_choice = model_type_dropdown.value\n",
    "    variant_choice = model_variant_dropdown.value\n",
    "    \n",
    "    if model_choice == 'YOLOv5':\n",
    "        model = load_yolov5_model(variant_choice)\n",
    "        detection_function = lambda frame, model: yolov5_detection(frame, model, model_choice, variant_choice)\n",
    "    elif model_choice == 'DETR':\n",
    "        model, processor = load_detr_model(variant_choice)\n",
    "        detection_function = lambda frame, model: detr_detection(frame, model, processor, model_choice, variant_choice)\n",
    "    \n",
    "    # Initialize webcam\n",
    "    cap = cv2.VideoCapture(0)\n",
    "\n",
    "    while True:\n",
    "        ret, frame = cap.read()\n",
    "        if not ret:\n",
    "            break\n",
    "\n",
    "        # Perform detection based on the selected model\n",
    "        frame = detection_function(frame, model)\n",
    "\n",
    "        # Display the resulting frame with model name and variant\n",
    "        cv2.imshow('Real-time Detection', frame)\n",
    "\n",
    "        # Break the loop on 'q' key press\n",
    "        if cv2.waitKey(1) & 0xFF == ord('q'):\n",
    "            break\n",
    "\n",
    "    # Release the webcam and close windows\n",
    "    cap.release()\n",
    "    cv2.destroyAllWindows()\n",
    "\n",
    "# Attach the button click event\n",
    "start_button.on_click(on_button_click)\n"
   ]
  },
  {
   "cell_type": "code",
   "execution_count": null,
   "id": "581fab02-b528-4b22-b3be-56890fee1293",
   "metadata": {},
   "outputs": [],
   "source": []
  }
 ],
 "metadata": {
  "kernelspec": {
   "display_name": "Python 3 (ipykernel)",
   "language": "python",
   "name": "python3"
  },
  "language_info": {
   "codemirror_mode": {
    "name": "ipython",
    "version": 3
   },
   "file_extension": ".py",
   "mimetype": "text/x-python",
   "name": "python",
   "nbconvert_exporter": "python",
   "pygments_lexer": "ipython3",
   "version": "3.9.18"
  }
 },
 "nbformat": 4,
 "nbformat_minor": 5
}
